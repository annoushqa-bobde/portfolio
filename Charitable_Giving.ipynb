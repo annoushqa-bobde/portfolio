{
  "cells": [
    {
      "cell_type": "code",
      "execution_count": null,
      "metadata": {
        "id": "CYqVHdKPhzv5"
      },
      "outputs": [],
      "source": [
        "import pandas as pd\n",
        "import numpy as np\n",
        "import io\n",
        "import requests\n",
        "from scipy.stats import ttest_ind\n",
        "from statsmodels.stats.proportion import proportions_ztest\n",
        "import statsmodels.formula.api as smf\n"
      ]
    },
    {
      "cell_type": "markdown",
      "metadata": {
        "id": "jkmxNJT3hzv7"
      },
      "source": [
        "#Analyzing the Impact of Charitable Giving Offers\n",
        "\n",
        "This project aims to analyze the effects of different charitable giving offers on donor behavior using a dataset from a large-scale natural field experiment. The study focuses on understanding how treatment offers, such as matching donation ratios and maximum contribution thresholds, influence donation amounts and participation rates among previous donors.\n",
        "\n",
        "##Objectives:\n",
        "Assess Sample Imbalance: Evaluate the balance of pre-treatment covariates between the treatment and control groups to identify any significant differences that may affect the treatment effects.\n",
        "\n",
        "Estimate Treatment Effects: Calculate and compare the treatment effects on:\n",
        "\n",
        "Whether a donor gave anything in response to the campaign (binary outcome).\n",
        "The amount donated by the donor in response to the campaign (continuous outcome).\n",
        "Investigate Heterogeneous Treatment Effects: Analyze the impact of varying matching offers, maximum donation thresholds, and ask amounts to determine if these factors significantly influence donor behavior.\n",
        "\n",
        "Include Covariates in Regression Models: Assess the impact of additional covariates on the treatment effects to refine the understanding of factors influencing charitable giving.\n",
        "\n",
        "##Methodology:\n",
        "\n",
        "Sample Assessment:\n",
        "\n",
        "Perform t-tests to compare means of pre-treatment variables (e.g., months since last donation, highest previous contribution) between the treatment and control groups.\n",
        "Conduct a difference in proportions test for binary variables (e.g., gender, prior donation status) to assess balance.\n",
        "\n",
        "Estimating Treatment Effects:\n",
        "\n",
        "Use t-tests to calculate the average treatment effects for both binary and continuous outcomes.\n",
        "Implement linear regression models using statsmodels to estimate treatment effects while controlling for additional covariates.\n",
        "Conduct permutation tests to validate the robustness of the treatment effect estimates.\n",
        "\n",
        "Investigating Heterogeneous Effects:\n",
        "\n",
        "Perform linear regression analyses to examine the effects of different matching ratios, maximum donation thresholds, and ask amounts on donor behavior.\n",
        "\n",
        "Incorporating Covariates:\n",
        "\n",
        "Include relevant covariates in the regression models to identify their effects on the treatment outcomes and adjust the treatment effect estimates accordingly.\n"
      ]
    },
    {
      "cell_type": "code",
      "execution_count": null,
      "metadata": {
        "id": "1fiBSbWxhzv9"
      },
      "outputs": [],
      "source": [
        "df=pd.read_csv(\"/content/charitable_data.csv\")\n",
        "\n",
        "df['any_missing'] = df[df.columns[-19:]].max(axis=1)\n",
        "df = df[df.any_missing==0]\n"
      ]
    },
    {
      "cell_type": "markdown",
      "metadata": {
        "id": "q0QRJe7ohzv9"
      },
      "source": [
        "**treatment:** Was the previous donor sent any matching offer?\n",
        "\n",
        "\n",
        "**treat_ratio2:** Was the matching offer a 2:1 ratio?\n",
        "\n",
        "**treat_ratio3:** Was the matching offer a 3:1 ratio?\n",
        "\n",
        "**treat_size25:** Was the maximimation threshold $25k?\n",
        "\n",
        "**treat_size50:** Was the maximimation threshold $50k?\n",
        "\n",
        "**treat_size100:** Was the maximimation threshold $100k?\n",
        "\n",
        "**treat_askd1:** Was the ask amount equal to the highest previous contribution?\n",
        "\n",
        "**treat_askd2:** Was the ask amount equal to 1.25X the highest previous contribution?\n",
        "\n",
        "**treat_askd3:** Was the amount equal to 1.5X the highest previous contribution?\n",
        "\n",
        "**out_amountgive:** how much did the donor give in response to this campaign?\n",
        "\n",
        "**out_gavedum:** did the member give anything in response to this campaign\n",
        "\n",
        "**hpa:** highest previous amount\n",
        "\n",
        "**mrm2:** months since previous donation\n",
        "\n",
        "**freq:** number of prior donations\n",
        "\n",
        "**years:** number of years since initial donation\n",
        "\n",
        "**year5:** donated in 2005\n",
        "\n",
        "**mrm2:** months since last donation\n",
        "\n",
        "**female:** donor is female\n",
        "\n",
        "**couple:** donor is part of couple\n",
        "\n",
        "**red0:** state was redstate in 2000\n"
      ]
    },
    {
      "cell_type": "code",
      "execution_count": null,
      "metadata": {
        "colab": {
          "base_uri": "https://localhost:8080/"
        },
        "id": "-5mGh5CDhzv_",
        "outputId": "1947150f-d78e-45e0-d977-1cf92726e9a3"
      },
      "outputs": [
        {
          "name": "stdout",
          "output_type": "stream",
          "text": [
            "mrm2:\n",
            "  Treatment Mean = 12.9539, Control Mean = 12.9465\n",
            "  t-statistic = 0.0622, p-value = 0.9504\n",
            "hpa:\n",
            "  Treatment Mean = 59.3578, Control Mean = 58.6564\n",
            "  t-statistic = 1.0483, p-value = 0.2945\n",
            "freq:\n",
            "  Treatment Mean = 8.0599, Control Mean = 8.0636\n",
            "  t-statistic = -0.0328, p-value = 0.9739\n",
            "years:\n",
            "  Treatment Mean = 6.0783, Control Mean = 6.1346\n",
            "  t-statistic = -1.0240, p-value = 0.3058\n",
            "No significant imbalance for mrm2: p-value = 0.9504\n",
            "No significant imbalance for hpa: p-value = 0.2945\n",
            "No significant imbalance for freq: p-value = 0.9739\n",
            "No significant imbalance for years: p-value = 0.3058\n"
          ]
        }
      ],
      "source": [
        "import pandas as pd\n",
        "import numpy as np\n",
        "from scipy.stats import ttest_ind\n",
        "\n",
        "treatment = df[df['treatment'] == 1]  # Matching offer group\n",
        "control = df[df['treatment'] == 0]    # No matching offer group\n",
        "\n",
        "def t_test_and_means(variable):\n",
        "    treatment_values = treatment[variable].dropna()\n",
        "    control_values = control[variable].dropna()\n",
        "\n",
        "    treatment_mean = treatment_values.mean()\n",
        "    control_mean = control_values.mean()\n",
        "\n",
        "    t_stat, p_val = ttest_ind(treatment_values, control_values, equal_var=False)\n",
        "\n",
        "    return treatment_mean, control_mean, t_stat, p_val\n",
        "\n",
        "variables = ['mrm2', 'hpa', 'freq', 'years']\n",
        "\n",
        "results = {}\n",
        "\n",
        "for var in variables:\n",
        "    treatment_mean, control_mean, t_stat, p_val = t_test_and_means(var)\n",
        "    results[var] = {\n",
        "        'treatment_mean': treatment_mean,\n",
        "        'control_mean': control_mean,\n",
        "        't-statistic': t_stat,\n",
        "        'p-value': p_val\n",
        "    }\n",
        "\n",
        "for var, stats in results.items():\n",
        "    print(f\"{var}:\")\n",
        "    print(f\"  Treatment Mean = {stats['treatment_mean']:.4f}, Control Mean = {stats['control_mean']:.4f}\")\n",
        "    print(f\"  t-statistic = {stats['t-statistic']:.4f}, p-value = {stats['p-value']:.4f}\")\n",
        "\n",
        "for var, stats in results.items():\n",
        "    if stats['p-value'] < 0.05:\n",
        "        print(f\"Imbalance detected for {var}: p-value = {stats['p-value']:.4f}\")\n",
        "    else:\n",
        "        print(f\"No significant imbalance for {var}: p-value = {stats['p-value']:.4f}\")\n"
      ]
    },
    {
      "cell_type": "code",
      "execution_count": null,
      "metadata": {
        "colab": {
          "base_uri": "https://localhost:8080/"
        },
        "id": "kQyz7RIuhzv_",
        "outputId": "37794ccf-7974-4c84-ef32-a6cb6dafb98d"
      },
      "outputs": [
        {
          "name": "stdout",
          "output_type": "stream",
          "text": [
            "year5: z-statistic = -1.5757, p-value = 0.1151\n",
            "female: z-statistic = -1.5050, p-value = 0.1323\n",
            "couple: z-statistic = 0.0274, p-value = 0.9781\n",
            "No significant imbalance for year5: p-value = 0.1151\n",
            "No significant imbalance for female: p-value = 0.1323\n",
            "No significant imbalance for couple: p-value = 0.9781\n"
          ]
        }
      ],
      "source": [
        "binary_vars = ['year5', 'female', 'couple']\n",
        "\n",
        "results = {}\n",
        "\n",
        "for var in binary_vars:\n",
        "    treatment_count = df[df['treatment'] == 1][var].value_counts()\n",
        "    control_count = df[df['treatment'] == 0][var].value_counts()\n",
        "\n",
        "    treatment_count = treatment_count.reindex([0, 1], fill_value=0)\n",
        "    control_count = control_count.reindex([0, 1], fill_value=0)\n",
        "\n",
        "    count = np.array([treatment_count[1], control_count[1]])\n",
        "    nobs = np.array([treatment_count.sum(), control_count.sum()])\n",
        "\n",
        "    z_stat, p_value = proportions_ztest(count, nobs)\n",
        "\n",
        "    results[var] = {'z-statistic': z_stat, 'p-value': p_value}\n",
        "\n",
        "for var, res in results.items():\n",
        "    print(f\"{var}: z-statistic = {res['z-statistic']:.4f}, p-value = {res['p-value']:.4f}\")\n",
        "\n",
        "for var, res in results.items():\n",
        "    if res['p-value'] < 0.05:\n",
        "        print(f\"Evidence of imbalance for {var}: p-value = {res['p-value']:.4f}\")\n",
        "    else:\n",
        "        print(f\"No significant imbalance for {var}: p-value = {res['p-value']:.4f}\")"
      ]
    },
    {
      "cell_type": "code",
      "execution_count": null,
      "metadata": {
        "colab": {
          "base_uri": "https://localhost:8080/"
        },
        "id": "MceKE_VNhzwA",
        "outputId": "d7c9c12f-78da-4631-f1df-a10ea3081d96"
      },
      "outputs": [
        {
          "name": "stdout",
          "output_type": "stream",
          "text": [
            "Binary Outcome (Did the member give anything?):\n",
            "Average Treatment Effect = 0.0049\n",
            "Z-statistic = 3.4517, p-value = 0.0006\n",
            "\n",
            "Continuous Outcome (How much did the donor give?):\n",
            "Average Treatment Effect = 0.1829\n",
            "T-statistic = 2.1168, p-value = 0.0343\n",
            "Statistically significant treatment effect for binary outcome.\n",
            "Statistically significant treatment effect for continuous outcome.\n"
          ]
        }
      ],
      "source": [
        "outcome_binary = 'out_gavedum'\n",
        "outcome_amount = 'out_amountgive'\n",
        "\n",
        "treatment_binary = df[df['treatment'] == 1][outcome_binary]\n",
        "control_binary = df[df['treatment'] == 0][outcome_binary]\n",
        "\n",
        "successes_binary = np.array([treatment_binary.sum(), control_binary.sum()])\n",
        "nobs_binary = np.array([treatment_binary.count(), control_binary.count()])\n",
        "\n",
        "z_stat_binary, p_value_binary = proportions_ztest(successes_binary, nobs_binary)\n",
        "\n",
        "avg_treatment_effect_binary = treatment_binary.mean() - control_binary.mean()\n",
        "\n",
        "treatment_amount = df[df['treatment'] == 1][outcome_amount]\n",
        "control_amount = df[df['treatment'] == 0][outcome_amount]\n",
        "\n",
        "t_stat_amount, p_value_amount = ttest_ind(treatment_amount.dropna(), control_amount.dropna())\n",
        "\n",
        "avg_treatment_effect_amount = treatment_amount.mean() - control_amount.mean()\n",
        "\n",
        "print(f\"Binary Outcome (Did the member give anything?):\")\n",
        "print(f\"Average Treatment Effect = {avg_treatment_effect_binary:.4f}\")\n",
        "print(f\"Z-statistic = {z_stat_binary:.4f}, p-value = {p_value_binary:.4f}\")\n",
        "\n",
        "print(f\"\\nContinuous Outcome (How much did the donor give?):\")\n",
        "print(f\"Average Treatment Effect = {avg_treatment_effect_amount:.4f}\")\n",
        "print(f\"T-statistic = {t_stat_amount:.4f}, p-value = {p_value_amount:.4f}\")\n",
        "\n",
        "if p_value_binary < 0.05:\n",
        "    print(\"Statistically significant treatment effect for binary outcome.\")\n",
        "else:\n",
        "    print(\"No statistically significant treatment effect for binary outcome.\")\n",
        "\n",
        "if p_value_amount < 0.05:\n",
        "    print(\"Statistically significant treatment effect for continuous outcome.\")\n",
        "else:\n",
        "    print(\"No statistically significant treatment effect for continuous outcome.\")"
      ]
    },
    {
      "cell_type": "code",
      "execution_count": null,
      "metadata": {
        "colab": {
          "base_uri": "https://localhost:8080/",
          "height": 35
        },
        "id": "pKk5c7-7hzwB",
        "outputId": "327fc32a-8bcd-40db-f5fa-d667e61a873e"
      },
      "outputs": [
        {
          "data": {
            "application/vnd.google.colaboratory.intrinsic+json": {
              "type": "string"
            },
            "text/plain": [
              "'\\nmod = smf.ols(formula=\"y ~d\", data=df)\\nres = mod.fit(cov_type=\\'HC3\\')\\nprint(res.summary())\\n'"
            ]
          },
          "execution_count": 89,
          "metadata": {},
          "output_type": "execute_result"
        }
      ],
      "source": [
        "#Example code\n",
        "\"\"\"\n",
        "mod = smf.ols(formula=\"y ~d\", data=df)\n",
        "res = mod.fit(cov_type='HC3')\n",
        "print(res.summary())\n",
        "\"\"\""
      ]
    },
    {
      "cell_type": "code",
      "execution_count": null,
      "metadata": {
        "colab": {
          "base_uri": "https://localhost:8080/"
        },
        "id": "308Hy5LuhzwB",
        "outputId": "8c5f6723-9be3-4187-8cf0-dbe45d55a48d"
      },
      "outputs": [
        {
          "name": "stdout",
          "output_type": "stream",
          "text": [
            "Binary Outcome: Treatment Effect Coefficient = 0.0049\n",
            "95% Confidence Interval for Binary Outcome: (0.0022, 0.0075)\n",
            "\n",
            "Continuous Outcome: Treatment Effect Coefficient = 0.1829\n",
            "95% Confidence Interval for Continuous Outcome: (0.0198, 0.3460)\n",
            "The confidence interval for the binary outcome does not cross 0.\n",
            "The confidence interval for the continuous outcome does not cross 0.\n"
          ]
        }
      ],
      "source": [
        "model_binary = smf.ols(formula=\"out_gavedum ~ treatment\", data=df)\n",
        "results_binary = model_binary.fit(cov_type='HC3')\n",
        "\n",
        "coef_binary = results_binary.params['treatment']\n",
        "conf_int_binary = results_binary.conf_int().loc['treatment']\n",
        "\n",
        "model_amount = smf.ols(formula=\"out_amountgive ~ treatment\", data=df)\n",
        "results_amount = model_amount.fit(cov_type='HC3')\n",
        "\n",
        "coef_amount = results_amount.params['treatment']\n",
        "conf_int_amount = results_amount.conf_int().loc['treatment']\n",
        "\n",
        "print(\"Binary Outcome: Treatment Effect Coefficient = {:.4f}\".format(coef_binary))\n",
        "print(\"95% Confidence Interval for Binary Outcome: ({:.4f}, {:.4f})\".format(conf_int_binary[0], conf_int_binary[1]))\n",
        "\n",
        "print(\"\\nContinuous Outcome: Treatment Effect Coefficient = {:.4f}\".format(coef_amount))\n",
        "print(\"95% Confidence Interval for Continuous Outcome: ({:.4f}, {:.4f})\".format(conf_int_amount[0], conf_int_amount[1]))\n",
        "\n",
        "if conf_int_binary[0] <= 0 <= conf_int_binary[1]:\n",
        "    print(\"The confidence interval for the binary outcome crosses 0.\")\n",
        "else:\n",
        "    print(\"The confidence interval for the binary outcome does not cross 0.\")\n",
        "\n",
        "if conf_int_amount[0] <= 0 <= conf_int_amount[1]:\n",
        "    print(\"The confidence interval for the continuous outcome crosses 0.\")\n",
        "else:\n",
        "    print(\"The confidence interval for the continuous outcome does not cross 0.\")\n"
      ]
    },
    {
      "cell_type": "code",
      "execution_count": null,
      "metadata": {
        "colab": {
          "base_uri": "https://localhost:8080/"
        },
        "id": "D0NWcbeMhzwC",
        "outputId": "33bb91a7-5565-4ea1-9b44-af18d1788f8b"
      },
      "outputs": [
        {
          "name": "stdout",
          "output_type": "stream",
          "text": [
            "Estimated p-value for binary outcome: 0.0010\n",
            "Estimated p-value for continuous outcome: 0.0300\n"
          ]
        }
      ],
      "source": [
        "n_iterations = 1000\n",
        "control_ratio = 0.333\n",
        "treatment_ratio = 0.667\n",
        "\n",
        "ate_binary = []\n",
        "ate_amount = []\n",
        "\n",
        "original_effect_binary = df['out_gavedum'].mean() - df[df['treatment'] == 0]['out_gavedum'].mean()\n",
        "original_effect_amount = df['out_amountgive'].mean() - df[df['treatment'] == 0]['out_amountgive'].mean()\n",
        "\n",
        "for _ in range(n_iterations):\n",
        "    shuffled_treatment = np.random.choice([0, 1], size=len(df), p=[control_ratio, treatment_ratio])\n",
        "    df['shuffled_treatment'] = shuffled_treatment\n",
        "\n",
        "    ate_binary.append(df['out_gavedum'].mean() - df[df['shuffled_treatment'] == 0]['out_gavedum'].mean())\n",
        "    ate_amount.append(df['out_amountgive'].mean() - df[df['shuffled_treatment'] == 0]['out_amountgive'].mean())\n",
        "\n",
        "ate_binary = np.array(ate_binary)\n",
        "ate_amount = np.array(ate_amount)\n",
        "\n",
        "p_value_binary = np.mean(np.abs(ate_binary) >= np.abs(original_effect_binary))\n",
        "p_value_amount = np.mean(np.abs(ate_amount) >= np.abs(original_effect_amount))\n",
        "\n",
        "print(f\"Estimated p-value for binary outcome: {p_value_binary:.4f}\")\n",
        "print(f\"Estimated p-value for continuous outcome: {p_value_amount:.4f}\")"
      ]
    },
    {
      "cell_type": "code",
      "execution_count": null,
      "metadata": {
        "colab": {
          "base_uri": "https://localhost:8080/"
        },
        "id": "Frs41EdxhzwD",
        "outputId": "513187cb-72fd-4c40-ef27-c29ebf09fffa"
      },
      "outputs": [
        {
          "name": "stdout",
          "output_type": "stream",
          "text": [
            "                            OLS Regression Results                            \n",
            "==============================================================================\n",
            "Dep. Variable:            out_gavedum   R-squared:                       0.000\n",
            "Model:                            OLS   Adj. R-squared:                  0.000\n",
            "Method:                 Least Squares   F-statistic:                     5.295\n",
            "Date:                Mon, 30 Sep 2024   Prob (F-statistic):            0.00502\n",
            "Time:                        21:45:51   Log-Likelihood:                 24504.\n",
            "No. Observations:               46513   AIC:                        -4.900e+04\n",
            "Df Residuals:                   46510   BIC:                        -4.897e+04\n",
            "Df Model:                           2                                         \n",
            "Covariance Type:                  HC3                                         \n",
            "================================================================================\n",
            "                   coef    std err          z      P>|z|      [0.025      0.975]\n",
            "--------------------------------------------------------------------------------\n",
            "Intercept        0.0189      0.001     22.325      0.000       0.017       0.021\n",
            "treat_ratio2     0.0041      0.002      2.413      0.016       0.001       0.007\n",
            "treat_ratio3     0.0046      0.002      2.709      0.007       0.001       0.008\n",
            "==============================================================================\n",
            "Omnibus:                    55349.601   Durbin-Watson:                   1.990\n",
            "Prob(Omnibus):                  0.000   Jarque-Bera (JB):          3923972.436\n",
            "Skew:                           6.704   Prob(JB):                         0.00\n",
            "Kurtosis:                      45.953   Cond. No.                         3.16\n",
            "==============================================================================\n",
            "\n",
            "Notes:\n",
            "[1] Standard Errors are heteroscedasticity robust (HC3)\n",
            "                            OLS Regression Results                            \n",
            "==============================================================================\n",
            "Dep. Variable:            out_gavedum   R-squared:                       0.000\n",
            "Model:                            OLS   Adj. R-squared:                  0.000\n",
            "Method:                 Least Squares   F-statistic:                     3.290\n",
            "Date:                Mon, 30 Sep 2024   Prob (F-statistic):             0.0105\n",
            "Time:                        21:45:51   Log-Likelihood:                 24504.\n",
            "No. Observations:               46513   AIC:                        -4.900e+04\n",
            "Df Residuals:                   46508   BIC:                        -4.895e+04\n",
            "Df Model:                           4                                         \n",
            "Covariance Type:                  HC3                                         \n",
            "=================================================================================\n",
            "                    coef    std err          z      P>|z|      [0.025      0.975]\n",
            "---------------------------------------------------------------------------------\n",
            "Intercept         0.0176      0.001     16.669      0.000       0.016       0.020\n",
            "treat_size25      0.0041      0.002      2.085      0.037       0.000       0.008\n",
            "treat_size50      0.0051      0.002      2.555      0.011       0.001       0.009\n",
            "treat_size100     0.0049      0.002      2.443      0.015       0.001       0.009\n",
            "treat_sizeno      0.0053      0.002      2.675      0.007       0.001       0.009\n",
            "==============================================================================\n",
            "Omnibus:                    55348.001   Durbin-Watson:                   1.990\n",
            "Prob(Omnibus):                  0.000   Jarque-Bera (JB):          3923486.645\n",
            "Skew:                           6.704   Prob(JB):                         0.00\n",
            "Kurtosis:                      45.950   Cond. No.                         4.74\n",
            "==============================================================================\n",
            "\n",
            "Notes:\n",
            "[1] Standard Errors are heteroscedasticity robust (HC3)\n",
            "                            OLS Regression Results                            \n",
            "==============================================================================\n",
            "Dep. Variable:            out_gavedum   R-squared:                       0.000\n",
            "Model:                            OLS   Adj. R-squared:                  0.000\n",
            "Method:                 Least Squares   F-statistic:                     4.363\n",
            "Date:                Mon, 30 Sep 2024   Prob (F-statistic):            0.00445\n",
            "Time:                        21:45:51   Log-Likelihood:                 24504.\n",
            "No. Observations:               46513   AIC:                        -4.900e+04\n",
            "Df Residuals:                   46509   BIC:                        -4.897e+04\n",
            "Df Model:                           3                                         \n",
            "Covariance Type:                  HC3                                         \n",
            "===============================================================================\n",
            "                  coef    std err          z      P>|z|      [0.025      0.975]\n",
            "-------------------------------------------------------------------------------\n",
            "Intercept       0.0176      0.001     16.669      0.000       0.016       0.020\n",
            "treat_askd1     0.0045      0.002      2.521      0.012       0.001       0.008\n",
            "treat_askd2     0.0046      0.002      2.576      0.010       0.001       0.008\n",
            "treat_askd3     0.0054      0.002      2.985      0.003       0.002       0.009\n",
            "==============================================================================\n",
            "Omnibus:                    55348.096   Durbin-Watson:                   1.990\n",
            "Prob(Omnibus):                  0.000   Jarque-Bera (JB):          3923514.825\n",
            "Skew:                           6.704   Prob(JB):                         0.00\n",
            "Kurtosis:                      45.950   Cond. No.                         4.26\n",
            "==============================================================================\n",
            "\n",
            "Notes:\n",
            "[1] Standard Errors are heteroscedasticity robust (HC3)\n"
          ]
        }
      ],
      "source": [
        "mod_offer = smf.ols(formula=\"out_gavedum ~ treat_ratio2 + treat_ratio3\", data=df)\n",
        "res_offer = mod_offer.fit(cov_type='HC3')\n",
        "\n",
        "print(res_offer.summary())\n",
        "\n",
        "mod_threshold = smf.ols(formula=\"out_gavedum ~ treat_size25 + treat_size50 + treat_size100 + treat_sizeno\", data=df)\n",
        "res_threshold = mod_threshold.fit(cov_type='HC3')\n",
        "\n",
        "print(res_threshold.summary())\n",
        "\n",
        "mod_ask = smf.ols(formula=\"out_gavedum ~ treat_askd1 + treat_askd2 + treat_askd3\", data=df)\n",
        "res_ask = mod_ask.fit(cov_type='HC3')\n",
        "\n",
        "print(res_ask.summary())"
      ]
    },
    {
      "cell_type": "code",
      "execution_count": null,
      "metadata": {
        "colab": {
          "base_uri": "https://localhost:8080/"
        },
        "id": "fm00WwVChzwD",
        "outputId": "61ebda5a-2787-4f7d-ad1c-de429305b666"
      },
      "outputs": [
        {
          "name": "stdout",
          "output_type": "stream",
          "text": [
            "                            OLS Regression Results                            \n",
            "==============================================================================\n",
            "Dep. Variable:            out_gavedum   R-squared:                       0.019\n",
            "Model:                            OLS   Adj. R-squared:                  0.019\n",
            "Method:                 Least Squares   F-statistic:                     25.23\n",
            "Date:                Mon, 30 Sep 2024   Prob (F-statistic):           4.62e-71\n",
            "Time:                        21:45:51   Log-Likelihood:                 24954.\n",
            "No. Observations:               46513   AIC:                        -4.988e+04\n",
            "Df Residuals:                   46497   BIC:                        -4.974e+04\n",
            "Df Model:                          15                                         \n",
            "Covariance Type:                  HC3                                         \n",
            "=================================================================================\n",
            "                    coef    std err          z      P>|z|      [0.025      0.975]\n",
            "---------------------------------------------------------------------------------\n",
            "Intercept         0.0212      0.002     13.675      0.000       0.018       0.024\n",
            "treat_ratio2      0.0021      0.002      1.017      0.309      -0.002       0.006\n",
            "treat_ratio3      0.0026      0.002      1.282      0.200      -0.001       0.007\n",
            "treat_size25      0.0007      0.002      0.471      0.638      -0.002       0.004\n",
            "treat_size50      0.0017      0.002      1.037      0.300      -0.002       0.005\n",
            "treat_size100     0.0013      0.002      0.772      0.440      -0.002       0.004\n",
            "treat_sizeno      0.0018      0.002      1.093      0.274      -0.001       0.005\n",
            "treat_askd1       0.0014      0.002      0.923      0.356      -0.002       0.004\n",
            "treat_askd2       0.0017      0.002      1.082      0.279      -0.001       0.005\n",
            "treat_askd3       0.0024      0.002      1.560      0.119      -0.001       0.005\n",
            "year5            -0.0004      0.002     -0.192      0.847      -0.004       0.004\n",
            "female            0.0005      0.002      0.358      0.720      -0.002       0.004\n",
            "couple           -0.0020      0.002     -0.879      0.380      -0.007       0.003\n",
            "mrm2             -0.0005   4.64e-05    -11.705      0.000      -0.001      -0.000\n",
            "hpa           -5.479e-06   9.26e-06     -0.592      0.554   -2.36e-05    1.27e-05\n",
            "freq              0.0019      0.000     10.861      0.000       0.002       0.002\n",
            "years            -0.0019      0.000     -6.971      0.000      -0.002      -0.001\n",
            "==============================================================================\n",
            "Omnibus:                    54470.663   Durbin-Watson:                   1.989\n",
            "Prob(Omnibus):                  0.000   Jarque-Bera (JB):          3700387.528\n",
            "Skew:                           6.530   Prob(JB):                         0.00\n",
            "Kurtosis:                      44.699   Cond. No.                     1.31e+17\n",
            "==============================================================================\n",
            "\n",
            "Notes:\n",
            "[1] Standard Errors are heteroscedasticity robust (HC3)\n",
            "[2] The smallest eigenvalue is 2.31e-26. This might indicate that there are\n",
            "strong multicollinearity problems or that the design matrix is singular.\n"
          ]
        },
        {
          "name": "stderr",
          "output_type": "stream",
          "text": [
            "/usr/local/lib/python3.10/dist-packages/statsmodels/base/model.py:1894: ValueWarning: covariance of constraints does not have full rank. The number of constraints is 16, but rank is 15\n",
            "  warnings.warn('covariance of constraints does not have full '\n"
          ]
        }
      ],
      "source": [
        "mod_covariates = smf.ols(formula=\"out_gavedum ~ treat_ratio2 + treat_ratio3 + treat_size25 + treat_size50 + treat_size100 + treat_sizeno + treat_askd1 + treat_askd2 + treat_askd3 + year5 + female + couple + mrm2 + hpa + freq + years\", data=df)\n",
        "res_covariates = mod_covariates.fit(cov_type='HC3')\n",
        "\n",
        "print(res_covariates.summary())"
      ]
    },
    {
      "cell_type": "markdown",
      "metadata": {
        "id": "iUt1F_U17JV-"
      },
      "source": [
        "The results show that after including the covariates, the treatment effects (matching ratios, size, and ask amount) remain statistically insignificant. However, the individual donor characteristics, especially the frequency of prior donations and the time since the last donation, have a significant effect on the likelihood of donating."
      ]
    },
    {
      "cell_type": "code",
      "execution_count": null,
      "metadata": {
        "colab": {
          "base_uri": "https://localhost:8080/"
        },
        "id": "u9S0-FWIhzwE",
        "outputId": "e8aca71c-caee-4021-daa0-9e5aaf61cfa7"
      },
      "outputs": [
        {
          "name": "stdout",
          "output_type": "stream",
          "text": [
            "             out_gavedum     year5    female    couple      mrm2       hpa  \\\n",
            "out_gavedum     1.000000  0.015355  0.005214  0.000289 -0.070025  0.011068   \n",
            "year5           0.015355  1.000000 -0.043266  0.064989  0.054198  0.205799   \n",
            "female          0.005214 -0.043266  1.000000 -0.198173 -0.013517 -0.014613   \n",
            "couple          0.000289  0.064989 -0.198173  1.000000 -0.028001  0.038112   \n",
            "mrm2           -0.070025  0.054198 -0.013517 -0.028001  1.000000  0.007017   \n",
            "hpa             0.011068  0.205799 -0.014613  0.038112  0.007017  1.000000   \n",
            "freq            0.112431  0.486505  0.015323  0.060945 -0.116325  0.201573   \n",
            "years           0.021111  0.758127  0.003122  0.078916  0.083117  0.230623   \n",
            "\n",
            "                 freq     years  \n",
            "out_gavedum  0.112431  0.021111  \n",
            "year5        0.486505  0.758127  \n",
            "female       0.015323  0.003122  \n",
            "couple       0.060945  0.078916  \n",
            "mrm2        -0.116325  0.083117  \n",
            "hpa          0.201573  0.230623  \n",
            "freq         1.000000  0.643789  \n",
            "years        0.643789  1.000000  \n"
          ]
        }
      ],
      "source": [
        "correlation_columns = ['out_gavedum', 'year5', 'female', 'couple', 'mrm2', 'hpa', 'freq', 'years']\n",
        "correlation_df = df[correlation_columns]\n",
        "\n",
        "correlation_matrix = correlation_df.corr()\n",
        "\n",
        "print(correlation_matrix)"
      ]
    },
    {
      "cell_type": "code",
      "execution_count": null,
      "metadata": {
        "colab": {
          "base_uri": "https://localhost:8080/"
        },
        "id": "gdKieSvdhzwE",
        "outputId": "4806ee4f-338c-4c24-cdc1-2be1a0269239"
      },
      "outputs": [
        {
          "name": "stdout",
          "output_type": "stream",
          "text": [
            "Red State Results:\n",
            "                            OLS Regression Results                            \n",
            "==============================================================================\n",
            "Dep. Variable:            out_gavedum   R-squared:                       0.001\n",
            "Model:                            OLS   Adj. R-squared:                  0.001\n",
            "Method:                 Least Squares   F-statistic:                     23.47\n",
            "Date:                Mon, 30 Sep 2024   Prob (F-statistic):           1.28e-06\n",
            "Time:                        21:45:51   Log-Likelihood:                 9698.4\n",
            "No. Observations:               18611   AIC:                        -1.939e+04\n",
            "Df Residuals:                   18609   BIC:                        -1.938e+04\n",
            "Df Model:                           1                                         \n",
            "Covariance Type:                  HC3                                         \n",
            "==============================================================================\n",
            "                 coef    std err          z      P>|z|      [0.025      0.975]\n",
            "------------------------------------------------------------------------------\n",
            "Intercept      0.0144      0.002      9.448      0.000       0.011       0.017\n",
            "treatment      0.0100      0.002      4.844      0.000       0.006       0.014\n",
            "==============================================================================\n",
            "Omnibus:                    22058.721   Durbin-Watson:                   1.991\n",
            "Prob(Omnibus):                  0.000   Jarque-Bera (JB):          1523867.337\n",
            "Skew:                           6.651   Prob(JB):                         0.00\n",
            "Kurtosis:                      45.287   Cond. No.                         3.25\n",
            "==============================================================================\n",
            "\n",
            "Notes:\n",
            "[1] Standard Errors are heteroscedasticity robust (HC3)\n",
            "Blue State Results:\n",
            "                            OLS Regression Results                            \n",
            "==============================================================================\n",
            "Dep. Variable:            out_gavedum   R-squared:                       0.000\n",
            "Model:                            OLS   Adj. R-squared:                 -0.000\n",
            "Method:                 Least Squares   F-statistic:                    0.6897\n",
            "Date:                Mon, 30 Sep 2024   Prob (F-statistic):              0.406\n",
            "Time:                        21:45:51   Log-Likelihood:                 14811.\n",
            "No. Observations:               27902   AIC:                        -2.962e+04\n",
            "Df Residuals:                   27900   BIC:                        -2.960e+04\n",
            "Df Model:                           1                                         \n",
            "Covariance Type:                  HC3                                         \n",
            "==============================================================================\n",
            "                 coef    std err          z      P>|z|      [0.025      0.975]\n",
            "------------------------------------------------------------------------------\n",
            "Intercept      0.0197      0.001     13.736      0.000       0.017       0.023\n",
            "treatment      0.0015      0.002      0.830      0.406      -0.002       0.005\n",
            "==============================================================================\n",
            "Omnibus:                    33331.165   Durbin-Watson:                   2.000\n",
            "Prob(Omnibus):                  0.000   Jarque-Bera (JB):          2398386.034\n",
            "Skew:                           6.736   Prob(JB):                         0.00\n",
            "Kurtosis:                      46.376   Cond. No.                         3.21\n",
            "==============================================================================\n",
            "\n",
            "Notes:\n",
            "[1] Standard Errors are heteroscedasticity robust (HC3)\n",
            "Red State Confidence Interval:\n",
            "                  0         1\n",
            "Intercept  0.011428  0.017410\n",
            "treatment  0.005933  0.013997\n",
            "Blue State Confidence Interval:\n",
            "                  0         1\n",
            "Intercept  0.016887  0.022508\n",
            "treatment -0.002013  0.004973\n"
          ]
        }
      ],
      "source": [
        "red_state_data = df[df['red0'] == 1]\n",
        "blue_state_data = df[df['red0'] == 0]\n",
        "\n",
        "mod_red = smf.ols(formula=\"out_gavedum ~ treatment\", data=red_state_data)\n",
        "res_red = mod_red.fit(cov_type='HC3')\n",
        "print(\"Red State Results:\")\n",
        "print(res_red.summary())\n",
        "\n",
        "mod_blue = smf.ols(formula=\"out_gavedum ~ treatment\", data=blue_state_data)\n",
        "res_blue = mod_blue.fit(cov_type='HC3')\n",
        "print(\"Blue State Results:\")\n",
        "print(res_blue.summary())\n",
        "\n",
        "red_ci = res_red.conf_int()\n",
        "blue_ci = res_blue.conf_int()\n",
        "print(\"Red State Confidence Interval:\")\n",
        "print(red_ci)\n",
        "print(\"Blue State Confidence Interval:\")\n",
        "print(blue_ci)\n"
      ]
    },
    {
      "cell_type": "code",
      "execution_count": null,
      "metadata": {
        "colab": {
          "base_uri": "https://localhost:8080/"
        },
        "id": "PkcVMHYrhzwE",
        "outputId": "2764179a-cdf8-42db-af34-ef8b9cf1e6fe"
      },
      "outputs": [
        {
          "name": "stdout",
          "output_type": "stream",
          "text": [
            "                            OLS Regression Results                            \n",
            "==============================================================================\n",
            "Dep. Variable:            out_gavedum   R-squared:                       0.000\n",
            "Model:                            OLS   Adj. R-squared:                  0.000\n",
            "Method:                 Least Squares   F-statistic:                     8.159\n",
            "Date:                Mon, 30 Sep 2024   Prob (F-statistic):           1.99e-05\n",
            "Time:                        21:45:51   Log-Likelihood:                 24509.\n",
            "No. Observations:               46513   AIC:                        -4.901e+04\n",
            "Df Residuals:                   46509   BIC:                        -4.897e+04\n",
            "Df Model:                           3                                         \n",
            "Covariance Type:                  HC3                                         \n",
            "==================================================================================\n",
            "                     coef    std err          z      P>|z|      [0.025      0.975]\n",
            "----------------------------------------------------------------------------------\n",
            "Intercept          0.0197      0.001     13.736      0.000       0.017       0.023\n",
            "treatment          0.0015      0.002      0.830      0.406      -0.002       0.005\n",
            "red0              -0.0053      0.002     -2.521      0.012      -0.009      -0.001\n",
            "treatment:red0     0.0085      0.003      3.118      0.002       0.003       0.014\n",
            "==============================================================================\n",
            "Omnibus:                    55338.485   Durbin-Watson:                   1.990\n",
            "Prob(Omnibus):                  0.000   Jarque-Bera (JB):          3920647.812\n",
            "Skew:                           6.702   Prob(JB):                         0.00\n",
            "Kurtosis:                      45.934   Cond. No.                         7.91\n",
            "==============================================================================\n",
            "\n",
            "Notes:\n",
            "[1] Standard Errors are heteroscedasticity robust (HC3)\n",
            "Interaction Term Confidence Interval:\n",
            "                       0         1\n",
            "Intercept       0.016887  0.022508\n",
            "treatment      -0.002013  0.004973\n",
            "red0           -0.009383 -0.001174\n",
            "treatment:red0  0.003151  0.013820\n"
          ]
        }
      ],
      "source": [
        "mod_interaction = smf.ols(formula=\"out_gavedum ~ treatment * red0\", data=df)\n",
        "res_interaction = mod_interaction.fit(cov_type='HC3')\n",
        "\n",
        "print(res_interaction.summary())\n",
        "\n",
        "interaction_ci = res_interaction.conf_int()\n",
        "print(\"Interaction Term Confidence Interval:\")\n",
        "print(interaction_ci)\n"
      ]
    },
    {
      "cell_type": "markdown",
      "metadata": {
        "id": "zChH4jNF54Dp"
      },
      "source": [
        "Interaction Term Significance: The interaction term (treatment × red state) is statistically significant, with a p-value of 0.002. This indicates that the effect of the treatment is different in red states compared to blue states.\n",
        "Magnitude of Effect in Red States: The treatment effect increases the likelihood of giving in red states by 0.0085 (or 0.85%). The 95% confidence interval for this effect (0.0031 to 0.0138) does not include zero, confirming that this result is statistically significant.\n",
        "Negligible Effect in Blue States: In blue states, the treatment effect is almost zero (0.0015) and not statistically significant, as indicated by the p-value of 0.406.\n",
        "Confidence Interval of Interaction: The confidence interval of the interaction term (0.0031 to 0.0138) supports that the treatment effect is significantly larger in red states than in blue states."
      ]
    }
  ],
  "metadata": {
    "colab": {
      "provenance": []
    },
    "kernelspec": {
      "display_name": "Python 3 (ipykernel)",
      "language": "python",
      "name": "python3"
    },
    "language_info": {
      "codemirror_mode": {
        "name": "ipython",
        "version": 3
      },
      "file_extension": ".py",
      "mimetype": "text/x-python",
      "name": "python",
      "nbconvert_exporter": "python",
      "pygments_lexer": "ipython3",
      "version": "3.10.0"
    }
  },
  "nbformat": 4,
  "nbformat_minor": 0
}
